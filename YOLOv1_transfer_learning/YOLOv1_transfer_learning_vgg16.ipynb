{
  "cells": [
    {
      "cell_type": "code",
      "execution_count": 28,
      "metadata": {
        "id": "vJ1g-VGNPx5b"
      },
      "outputs": [],
      "source": [
        "import torch\n",
        "import torch.nn as nn\n",
        "import torchvision\n",
        "import torchvision.transforms as transforms\n",
        "import torch.optim as optim\n",
        "import torchvision.transforms.functional as FT\n",
        "from torch.utils.data import DataLoader\n",
        "from tqdm import tqdm\n",
        "#from tqdm.auto import tqdm\n",
        "import pandas as pd\n",
        "import os\n",
        "import PIL\n",
        "import skimage\n",
        "from skimage import io\n",
        "import numpy as np\n",
        "from PIL import Image\n",
        "import matplotlib.pyplot as plt\n",
        "import matplotlib.patches as patches\n",
        "seed = 123\n",
        "import cv2\n",
        "torch.manual_seed(seed)\n",
        "from collections import Counter\n",
        "from time import sleep\n",
        "import random\n",
        "import torchvision.datasets as datasets  # Has standard datasets we can import in a nice way\n",
        "from google.colab.patches import cv2_imshow"
      ]
    },
    {
      "cell_type": "code",
      "execution_count": 1,
      "metadata": {
        "colab": {
          "base_uri": "https://localhost:8080/"
        },
        "id": "p-BGxtSJj-By",
        "metadata": {},
        "outputId": "0b4105f2-d4f2-48df-f58c-e46c15507a2b"
      },
      "outputs": [
        {
          "data": {
            "text/plain": [
              "'Download Cat-Dog dataset'"
            ]
          },
          "execution_count": 1,
          "metadata": {},
          "output_type": "execute_result"
        }
      ],
      "source": [
        "\"\"\"Download Cat-Dog dataset\"\"\"\n",
        "# !curl -L https://public.roboflow.com/ds/B1cLXyUA5l?key=0E7jZ1cq7I > roboflow.zip; unzip roboflow.zip; rm roboflow.zip"
      ]
    },
    {
      "cell_type": "code",
      "execution_count": 3,
      "metadata": {
        "colab": {
          "base_uri": "https://localhost:8080/"
        },
        "id": "rVtlf4bTkAFv",
        "outputId": "4ab48e72-296a-44ba-c1f5-48d85217da4e"
      },
      "outputs": [
        {
          "name": "stdout",
          "output_type": "stream",
          "text": [
            "Train data contains 2576 images and 2576 labels\n",
            "Test data contains 368 images and 368 labels\n"
          ]
        }
      ],
      "source": [
        "\"\"\" Let us get the dataset information \"\"\"\n",
        "\n",
        "train_dir = '/content/train'\n",
        "test_dir = '/content/test'\n",
        "\n",
        "train_images = [file for file in os.listdir(train_dir) if file.endswith(\".jpg\")]\n",
        "train_labels = [ file[:-4]+ \".txt\"  for file in train_images]          \n",
        "\n",
        "test_images = [file for file in os.listdir(test_dir) if file.endswith(\".jpg\")]\n",
        "test_labels = [ file[:-4]+ \".txt\"  for file in test_images]          \n",
        "\n",
        "print(f\"Train data contains {len(train_images)} images and {len(train_labels)} labels\")\n",
        "print(f\"Test data contains {len(test_images)} images and {len(test_labels)} labels\")"
      ]
    },
    {
      "cell_type": "code",
      "execution_count": 4,
      "metadata": {
        "id": "HkzyMc-GkPxr"
      },
      "outputs": [],
      "source": [
        "class LoadData(torch.utils.data.Dataset):\n",
        "    \n",
        "    def __init__(self, file_dir, S=7, B=2, C=2, transform=None):\n",
        "        self.file_dir=file_dir\n",
        "        self.images_list=[image for image in os.listdir(self.file_dir) if image.endswith(\".jpg\")]\n",
        "        self.labels_list=[ file[:-4]+ \".txt\"  for file in self.images_list]\n",
        "        self.S=S\n",
        "        self.B=B\n",
        "        self.C=C\n",
        "        self.transform=transform\n",
        "\n",
        "    def __len__(self):\n",
        "        return len(self.images_list)\n",
        "\n",
        "    def __getitem__(self, idx):\n",
        "        label_path= os.path.join(self.file_dir,self.labels_list[idx])\n",
        "        label_file = open(label_path, 'r')\n",
        "\n",
        "        #read labels\n",
        "        boxes=[]\n",
        "        for line in label_file.readlines():\n",
        "            box = list(map(float,line.split()))\n",
        "            boxes.append(box)\n",
        "\n",
        "        boxes = torch.tensor(boxes)\n",
        "        #read image\n",
        "        img_path = os.path.join(self.file_dir, self.images_list[idx])\n",
        "        image = Image.open(img_path)\n",
        "        image = image.convert(\"RGB\")\n",
        "\n",
        "        if self.transform:\n",
        "            # image = self.transform(image)\n",
        "            image, boxes = self.transform(image, boxes)\n",
        "\n",
        "        #convert center (x,y) w.r.t cell and write x,y,w,h , objectness and class label in label_matrix\n",
        "        label_matrix = torch.zeros((self.S, self.S, self.C + 5 * self.B))\n",
        "\n",
        "        for box in boxes:\n",
        "            class_label, x_img, y_img, w, h = box\n",
        "            class_label=int(class_label)\n",
        "\n",
        "            i, j =  int(self.S * y_img) , int(self.S * x_img)\n",
        "            x_cell, y_cell = self.S * x_img - j , self.S * y_img - i\n",
        "\n",
        "            if label_matrix[i, j, self.C] == 0:\n",
        "                # Set that there exists an object\n",
        "                label_matrix[i, j, self.C] = 1\n",
        "                # write box coordinates\n",
        "                box_coordinates = torch.tensor([x_cell, y_cell, w, h])\n",
        "                label_matrix[i, j, self.C + 1 : self.C + 5 ] = box_coordinates\n",
        "                #Set class probability as 1\n",
        "                label_matrix[i, j, class_label] = 1\n",
        "\n",
        "        return image, label_matrix        "
      ]
    },
    {
      "cell_type": "code",
      "execution_count": 5,
      "metadata": {
        "id": "OMA5do41kVMf"
      },
      "outputs": [],
      "source": [
        "\"\"\" This function calculates intersection over union \n",
        "    input parameters: Prediction boxes(boxes_preds) predicted for a batch of input i.e, of size (batch_size,S,S, 4)\n",
        "                      Ground truth boxes(boxes_gt) for a batch of input i.e, of size (batch_size,S,S,4)\n",
        "                      centroid_format ='image' or 'cell' \n",
        "                      if the center of bounding box (x,y) are offset w.r.t cell then centroid_format should be kept equal to 'cell'.Hence, it will\n",
        "                      be first converted w.r.t image via. function convert_boxes_wrt_image and then passed for IOU calculation.\n",
        "\n",
        "    output: IOU for all input pairs of prediction and ground truth boxes i.e, of size (batch_size,S,S,1)\n",
        "    (0,1,2,3) == (x,y,w,h)\"\"\"\n",
        "def IOU(boxes_preds, boxes_gt,  centroid_format='image'):\n",
        "    \n",
        "    #change the box centroid coordinates (x,y) w.r.t image if they are w.r.t cell \n",
        "    if centroid_format == 'cell':\n",
        "        boxes_preds = convert_boxes_wrt_image(boxes_preds)\n",
        "        boxes_gt = convert_boxes_wrt_image(boxes_gt)\n",
        "\n",
        "    #box-1 left-top(x1,y1) and right-bottom(x2,y2) coordinate points\n",
        "    b1_x1 = boxes_preds[...,0:1] - boxes_preds[...,2:3]/2    # center_x - w/2\n",
        "    b1_x2 = boxes_preds[...,0:1] + boxes_preds[...,2:3]/2    # center_x + w/2\n",
        "    b1_y1 = boxes_preds[...,1:2] - boxes_preds[...,3:4]/2    # center_y - h/2\n",
        "    b1_y2 = boxes_preds[...,1:2] + boxes_preds[...,3:4]/2    # center_y + h/2\n",
        "\n",
        "    #box-2 left-top(x1,y1) and right-bottom(x2,y2) coordinate points\n",
        "    b2_x1 = boxes_gt[...,0:1] - boxes_gt[...,2:3]/2    # center_x - w/2\n",
        "    b2_x2 = boxes_gt[...,0:1] + boxes_gt[...,2:3]/2    # center_x + w/2\n",
        "    b2_y1 = boxes_gt[...,1:2] - boxes_gt[...,3:4]/2    # center_y - h/2\n",
        "    b2_y2 = boxes_gt[...,1:2] + boxes_gt[...,3:4]/2    # center_y + h/2\n",
        "\n",
        "    #left-top(x1,y1) and right-bottom(x2,y2) coordinate points of intersection box\n",
        "    x1 = torch.max(b1_x1,b1_x1)\n",
        "    x2 = torch.min(b1_x2,b2_x2)\n",
        "    y1 = torch.max(b1_y1,b2_y1)\n",
        "    y2 = torch.min(b1_y2,b2_y2)\n",
        "\n",
        "    #.clamp(0) is for the case when they don't intersect. Since when they don't intersect, one of these will be negative so that should become 0\n",
        "    intersection_area = (x2 - x1).clamp(0) * (y2 - y1).clamp(0)\n",
        "\n",
        "    #Area of box-1 and box-2\n",
        "    box1_area = abs((b1_x2 - b1_x1) * (b1_y2 - b1_y1))\n",
        "    box2_area = abs((b2_x2 - b2_x1) * (b2_y2 - b2_y1))\n",
        "\n",
        "    iou = intersection_area / (box1_area + box2_area - intersection_area + 1e-6)\n",
        "\n",
        "    return iou\n",
        "\n",
        "\"\"\" convert_boxes_wrt_image , this function takes input boxes whose centroid format are w.r.t cell and convert it w.r.t image\n",
        "    input:\n",
        "    batch_boxes (tensor): Predicted or Ground truth boxes for a batch and it is a tensor of size (batch_size,S,S,4)\n",
        "    S (integer) : Split size for algorithm\n",
        "    \n",
        "    output (tensor): Boxes whose centroid are w.r.t 'image' of size (batch_size, S,S,4)\n",
        "\"\"\"\n",
        "def convert_boxes_wrt_image(batch_boxes, S=7):\n",
        "\n",
        "    #cell_indices is 'j' with size (N,S,S,1) and cell_indices.permute(0, 2, 1, 3) is 'i' with size (N,S,S,1)\n",
        "    batch_size = batch_boxes.shape[0]\n",
        "    cell_indices = torch.arange(7).repeat(batch_size, 7, 1).unsqueeze(-1).to(DEVICE)      #(N,S,S,1)\n",
        "    x = 1 / S * (batch_boxes[..., :1] + cell_indices)\n",
        "    y = 1 / S * (batch_boxes[..., 1:2] + cell_indices.permute(0, 2, 1, 3))\n",
        "    w_h = batch_boxes[..., 2:4]\n",
        "\n",
        "    converted_bboxes = torch.cat((x, y, w_h), dim=-1)  #(N,S,S,4)\n",
        "\n",
        "    return converted_bboxes\n"
      ]
    },
    {
      "cell_type": "code",
      "execution_count": 6,
      "metadata": {
        "id": "c1O1m1jlkevs"
      },
      "outputs": [],
      "source": [
        "\"\"\" This function the loss\n",
        "    Input: Predictions of size (batch_size, S,S, 5*B+C) \n",
        "           Ground truth targets of size (batch_size, S * S* (5*B+C))\n",
        "    Output: Mean Square Error defined in YOLOv1 paper (hence, a float value)\"\"\"\n",
        "\n",
        "class YOLOLoss(nn.Module):\n",
        "    def __init__(self, S=7, B=2, C=2):\n",
        "        super(YOLOLoss,self).__init__()\n",
        "        self.mse = nn.MSELoss(reduction = 'sum')\n",
        "        self.S = S\n",
        "        self.B = B\n",
        "        self.C = C\n",
        "        self.lambda_noobj = 0.5\n",
        "        self.lambda_coord = 5\n",
        "\n",
        "    def forward(self, predictions, ground_truths):\n",
        "        #reshape prediction output from (batch_size , 588) to (batch_size, 7,7,12)\n",
        "        predictions = predictions.reshape(-1, self.S, self.S, 5*self.B+self.C ) \n",
        "        \n",
        "\n",
        "        #get the best box i.e, box responsible for prediction out of 2 predicted bounding box\n",
        "        iou_b1 = IOU(predictions[...,self.C + 1 : self.C + 5], ground_truths[..., self.C + 1 : self.C + 5],centroid_format='cell')  #(N,S,S,1)\n",
        "        iou_b2 = IOU(predictions[...,self.C + 6 : ], ground_truths[..., self.C + 1 : self.C + 5],centroid_format='cell')  #(N,S,S,1)\n",
        "        \n",
        "        ious = torch.cat([iou_b1.unsqueeze(0), iou_b2.unsqueeze(0)], dim=0)  #(2,N,S,S,1)\n",
        "        \n",
        "        iou_maxes, bestbox = torch.max(ious, dim=0)   #dimension of both iou_maxes and bestbox are (N,S,S,1)\n",
        "\n",
        "        exists_box = ground_truths[..., self.C : self.C + 1 ] # (N,S,S,1)\n",
        "       \n",
        "       \n",
        "        #Calculate box loss\n",
        "\n",
        "        box_pred =exists_box * (\n",
        "                  ( bestbox * predictions[...,self.C + 6 :] + (1- bestbox) * predictions[...,self.C + 1 : self.C + 5])   #(N,S,S,4)\n",
        "        )\n",
        "\n",
        "        box_gt = exists_box * ground_truths[..., self.C + 1 : self.C + 5] #(N,S,S,4)\n",
        "        \n",
        "        ## take square root of width and height\n",
        "        box_pred[..., 2:4] = torch.sign(box_pred[..., 2:4]) * torch.sqrt(torch.abs(box_pred[..., 2:4] + 1e-6))\n",
        "\n",
        "        box_gt[..., 2:4] = torch.sqrt(box_gt[..., 2:4])\n",
        "\n",
        "        box_loss = self.mse(torch.flatten(box_pred, end_dim=-2), \n",
        "                            torch.flatten(box_gt, end_dim=-2))      # float \n",
        "\n",
        "        #Calculate object loss\n",
        "\n",
        "        pred_C = bestbox * predictions[..., self.C + 5 : self.C + 6] + (1-bestbox) * predictions[..., self.C : self.C + 1] #(N,S,S,1)\n",
        "        gt_C = ground_truths[..., self.C : self.C + 1] #(N,S,S,1)\n",
        "\n",
        "        object_loss = self.mse(torch.flatten(exists_box * pred_C, end_dim=-2), \n",
        "                               torch.flatten(exists_box * gt_C, end_dim=-2))     # float\n",
        "\n",
        "       #Calculate no object loss\n",
        "\n",
        "        no_object_loss = self.mse(\n",
        "            torch.flatten((1 - exists_box) * predictions[..., self.C:self.C + 1], end_dim=-2),    #(N*S*S,1)\n",
        "            torch.flatten((1 - exists_box) * ground_truths[..., self.C:self.C + 1], end_dim=-2)) \n",
        "\n",
        "        no_object_loss += self.mse(\n",
        "            torch.flatten((1 - exists_box) * predictions[..., self.C + 5:self.C + 6], end_dim=-2),\n",
        "            torch.flatten((1 - exists_box) * ground_truths[..., self.C:self.C + 1], end_dim=-2)) #no_object_loss is float \n",
        "\n",
        "        #Class probability loss\n",
        "\n",
        "        class_loss = self.mse(torch.flatten(exists_box * predictions[..., :self.C], end_dim=-2), \n",
        "                              torch.flatten(exists_box * ground_truths[..., :self.C], end_dim=-2)) \n",
        "        \n",
        "        #Total loss\n",
        "        loss = ( self.lambda_coord * box_loss  # first two rows in paper\n",
        "             + object_loss  # third row in paper\n",
        "             + self.lambda_noobj * no_object_loss  # forth row\n",
        "             + class_loss)  # fifth row\n",
        "        \n",
        "        return loss"
      ]
    },
    {
      "cell_type": "code",
      "execution_count": 7,
      "metadata": {
        "id": "tE5jBhnFk1Qn"
      },
      "outputs": [],
      "source": [
        "def train_fn(train_loader, model, optimizer, loss_fn , epoch):\n",
        "    mean_loss = []\n",
        "    with tqdm(train_loader, unit=\"batch\") as loop:\n",
        "        loop.set_description(f\"Epoch {epoch}\")\n",
        "        for batch_idx, (x,y) in enumerate(loop):\n",
        "            x , y = x.to(DEVICE) , y.to(DEVICE)\n",
        "            out = model(x)\n",
        "            loss = loss_fn(out,y)\n",
        "            mean_loss.append(loss.item())\n",
        "            optimizer.zero_grad()          #all gradient should be zero in next epoch and should not carry previous gradients\n",
        "            loss.backward()                #calculates the gradient update for each layer\n",
        "            optimizer.step()               #update the weights  \n",
        "            sleep(0.1)\n",
        "        print(f\"Mean loss was {sum(mean_loss) / len(mean_loss)}\")  "
      ]
    },
    {
      "cell_type": "code",
      "execution_count": 8,
      "metadata": {
        "id": "0OJZQtlhk4yf"
      },
      "outputs": [],
      "source": [
        "\"\"\" Compose function is responsible for preprocessing , it is passed as a \"transform\" in LoadData() class \n",
        "    Input arguments: A list containing transformation functions\n",
        "    Output: Transformation functions are applied to the input image and label and outputted \"\"\"\n",
        "class Compose(object):\n",
        "    def __init__(self, transforms):\n",
        "        self.transforms = transforms\n",
        "\n",
        "    def __call__(self, img, bboxes):\n",
        "        for t in self.transforms:\n",
        "            img, bboxes = t(img), bboxes \n",
        "\n",
        "        return img, bboxes\n",
        "\n",
        "\n",
        "transform = Compose([transforms.Resize((448, 448)), transforms.ToTensor()])"
      ]
    },
    {
      "cell_type": "code",
      "execution_count": 9,
      "metadata": {
        "id": "dwN8--fZk8TB"
      },
      "outputs": [],
      "source": [
        "def save_checkpoint(state, filename=\"my_checkpoint.pth\"):\n",
        "    print(\"=> Saving checkpoint\")\n",
        "    torch.save(state, filename) "
      ]
    },
    {
      "cell_type": "code",
      "execution_count": 10,
      "metadata": {
        "id": "HRQjdEIFk-2d"
      },
      "outputs": [],
      "source": [
        "def load_checkpoint(checkpoint, model, optimizer):\n",
        "    print(\"=> Loading checkpoint\")\n",
        "    model.load_state_dict(checkpoint[\"state_dict\"])\n",
        "    optimizer.load_state_dict(checkpoint[\"optimizer\"])"
      ]
    },
    {
      "cell_type": "code",
      "execution_count": 11,
      "metadata": {
        "id": "yaanhFPemFmR"
      },
      "outputs": [],
      "source": [
        "\"\"\"Input: label_matrix of size (batch_size, S,S, 5*B+C)\n",
        "   Output type-list : Contains elements as list. Each list has values as: [class_int, prob ,x_img ,y_img, w_img, h_img]\n",
        "\"\"\"\n",
        "\n",
        "def tensor_to_boxes(in_tensor ,S=7 ,B=2 ,C=2):\n",
        "    bboxes1 = in_tensor[..., C + 1:C + 5] \n",
        "    bboxes2 = in_tensor[..., C + 6: ]\n",
        "    \n",
        "    #get best boxes\n",
        "    scores = torch.cat((in_tensor[..., C:C + 1].unsqueeze(0), in_tensor[..., C + 5:C + 6].unsqueeze(0)), dim=0)\n",
        "    max_scores, best_box = torch.max(scores, dim=0)  #both are of size (N,S,S,1)\n",
        "    best_boxes = bboxes1 * (1 - best_box) + best_box * bboxes2  #(N,S,S,4)\n",
        "\n",
        "    converted_bboxes = convert_boxes_wrt_image(best_boxes)  #(N,S,S,4)\n",
        "    predicted_class = in_tensor[..., :C].argmax(-1).unsqueeze(-1)  #(N,S,S,1)  \n",
        "\n",
        "    converted_preds = torch.cat((predicted_class, max_scores, converted_bboxes), dim=-1)  #(N,S,S,6)\n",
        "    \n",
        "    converted_preds = converted_preds.reshape(-1, S * S, 6)\n",
        "    converted_preds[..., 0] = converted_preds[..., 0].long()\n",
        "    all_bboxes = [] \n",
        "\n",
        "    for ex_idx in range(converted_preds.shape[0]):\n",
        "        bboxes = []\n",
        "\n",
        "        for bbox_idx in range(S * S):   #S*S = total no. of cells in SxS grid\n",
        "            bboxes.append([x.item() for x in converted_preds[ex_idx, bbox_idx, :]])\n",
        "        all_bboxes.append(bboxes) \n",
        "\n",
        "    return all_bboxes  # (N,49,6)\n"
      ]
    },
    {
      "cell_type": "code",
      "execution_count": 12,
      "metadata": {
        "id": "nvyszYjGmM1T"
      },
      "outputs": [],
      "source": [
        "\"\"\"\n",
        "    Does Non Max Suppression given bboxes\n",
        "    Parameters:\n",
        "        bboxes (list): list of lists containing all bboxes with each bboxes\n",
        "        specified as [class_int, prob_score, x_img, y_img, w_img, h_img]\n",
        "        iou_threshold (float): threshold where predicted bboxes is correct\n",
        "        threshold (float): threshold to remove predicted bboxes (independent of IoU) \n",
        "        box_format (str): \"midpoint\" or \"corners\" used to specify bboxes\n",
        "    Returns:\n",
        "        list: bboxes after performing NMS given a specific IoU threshold\n",
        "    \"\"\"\n",
        "\n",
        "def non_max_suppression(bboxes, iou_threshold, threshold): \n",
        "    \n",
        "    assert type(bboxes) == list\n",
        "\n",
        "    bboxes = [box for box in bboxes if box[1] > threshold]\n",
        "    bboxes = sorted(bboxes, key=lambda x: x[1], reverse=True)\n",
        "    bboxes_after_nms = []\n",
        "\n",
        "    while bboxes:\n",
        "        chosen_box = bboxes.pop(0)\n",
        "        \n",
        "        #following loop discards those box whose class is same as chosen_box and iou w.r.t chosen box is > iou_threshold\n",
        "        bboxes = [\n",
        "            box\n",
        "            for box in bboxes\n",
        "            if box[0] != chosen_box[0]                 #if the class is not same \n",
        "            or IOU(torch.tensor(chosen_box[2:]),torch.tensor(box[2:])) < iou_threshold\n",
        "        ] \n",
        "\n",
        "        bboxes_after_nms.append(chosen_box)\n",
        "\n",
        "    return bboxes_after_nms "
      ]
    },
    {
      "cell_type": "code",
      "execution_count": 13,
      "metadata": {
        "id": "eckHXtaVmRDq"
      },
      "outputs": [],
      "source": [
        "\"\"\" This function get_bboxes takes dataset (train/test), model, iou_threshold, threshold as input.\n",
        "    It sets the model to evaluation mode and predicts the output for given dataset and convert the prediction tensor to\n",
        "    list of box information as [train_idx, class_int, prob , x_img, y_img, w_img, h_img  ] and outputs it for further use in \n",
        "    model evaluation for mAP.\n",
        "\"\"\"\n",
        "def get_bboxes(loader,model,iou_threshold, threshold,pred_format=\"cells\",device=\"cuda\", S=7, B=2, C=2 , train = True):\n",
        "    all_pred_boxes = []\n",
        "    all_true_boxes = []\n",
        "    # make sure model is in eval before get bboxes\n",
        "    model.eval()\n",
        "    train_idx = 0 \n",
        "\n",
        "    for batch_idx, (x, labels) in enumerate(loader):\n",
        "        x = x.to(device)\n",
        "        labels = labels.to(device)\n",
        "\n",
        "        with torch.no_grad():\n",
        "            predictions = model(x)\n",
        "\n",
        "        batch_size = x.shape[0]\n",
        "        true_bboxes = tensor_to_boxes(labels)  #converts tensor to list of boxes\n",
        "        predictions = predictions.reshape(-1, S, S, 5*B + C )  #(N,588) --> (N,S,S,5*B+C) because tensor_to_boxes expects this size of i/p\n",
        "        bboxes = tensor_to_boxes(predictions)\n",
        "\n",
        "        for idx in range(batch_size):\n",
        "            nms_boxes = non_max_suppression(\n",
        "                bboxes[idx],\n",
        "                iou_threshold=iou_threshold,\n",
        "                threshold=threshold\n",
        "                )\n",
        "\n",
        "            for nms_box in nms_boxes:\n",
        "                all_pred_boxes.append([train_idx] + nms_box)\n",
        "\n",
        "            for box in true_bboxes[idx]:\n",
        "                # many will get converted to 0 pred\n",
        "                if box[1] > threshold:\n",
        "                    all_true_boxes.append([train_idx] + box)\n",
        "\n",
        "            train_idx += 1\n",
        "    \n",
        "    if train == True:\n",
        "        model.train()\n",
        "\n",
        "    return all_pred_boxes, all_true_boxes"
      ]
    },
    {
      "cell_type": "code",
      "execution_count": 14,
      "metadata": {
        "id": "MPEPH-J4mbjP"
      },
      "outputs": [],
      "source": [
        "\"\"\" This function finds the mean average precision over entire training epoch \n",
        "    and can also be used for testing.\n",
        "    Input parameters:\n",
        "    pred_boxes (list): list of lists containing all predicted bboxes with each bboxes\n",
        "                        specified as [train_idx, class_int, prob, x_img, y_img, w_img, h_img]\n",
        "    true_boxes (list): list of lists containing all ground truth bboxes with each bboxes\n",
        "                        specified as [train_idx, class_int, prob, x_img, y_img, w_img, h_img]\n",
        "    iou_threshold: threshold where predicted bboxes is correct\n",
        "    num_classes= number of classes\n",
        "\"\"\"\n",
        "def mean_average_precision(pred_boxes, true_boxes, iou_threshold=0.5, num_classes=2):\n",
        "\n",
        "    average_precisions = []   #to store AP corresponding to all classes\n",
        "    epsilon = 1e-6            # used for numerical stability\n",
        "    \n",
        "    for c in range(num_classes):\n",
        "        #take all detection bbox and ground truth bbox belonging to class c\n",
        "        detections=[det for det in pred_boxes if det[1] == c]\n",
        "        ground_truths=[grt for grt in true_boxes if grt[1] == c] \n",
        "\n",
        "        #Initialize a dictionary with (key,value) as (train_idx, tensor of zeros of size number of ground truth \n",
        "        #bbox for image at train_idx). This is to keep track whether detection w.r.t this ground truth bbox is \n",
        "        #covered. Because we can have only one TP detection bbox w.r.t one ground truth bbox.\n",
        "\n",
        "        ##foll will give dict with key=train_idx and value = no. of times train_idx appreared in ground_truths\n",
        "        #Example: amount_bboxes = {0:3, 1:5}\n",
        "        amount_bboxes = Counter([gt[0] for gt in ground_truths]) \n",
        "        #Now change to tensor of zeros-Example:ammount_bboxes = {0:torch.tensor[0,0,0], 1:torch.tensor[0,0,0,0,0]}\n",
        "        for key, val in amount_bboxes.items():\n",
        "            amount_bboxes[key] = torch.zeros(val) \n",
        "\n",
        "        # sort by box probabilities which is index 2\n",
        "        detections.sort(key=lambda x: x[2], reverse=True)\n",
        "        TP = torch.zeros((len(detections)))        #initialize a tensor of zeros of size (len(detections))\n",
        "        FP = torch.zeros((len(detections)))\n",
        "        total_true_bboxes = len(ground_truths) \n",
        "\n",
        "        # If none exists for this class then we can safely skip\n",
        "        if total_true_bboxes == 0:\n",
        "            continue\n",
        "\n",
        "        for detection_idx, detection in enumerate(detections):\n",
        "            #get all ground truth bbox belonging to same image(train_idx) to with detection belongs to\n",
        "            ground_truth_img = [bbox for bbox in ground_truths if bbox[0] == detection[0]] \n",
        "\n",
        "            #from all these ground truth bbox of this image get the best bbox that detection is representing\n",
        "            best_iou = 0\n",
        "            for idx, gt in enumerate(ground_truth_img):\n",
        "                iou = IOU(torch.tensor(detection[3:]),torch.tensor(gt[3:]))\n",
        "                if iou > best_iou:\n",
        "                    best_iou = iou\n",
        "                    best_gt_idx = idx\n",
        "            \n",
        "            #check whether best_iou is > iou_threshold and\n",
        "            #this ground truth bbox is not covered before if yes this detection is TP\n",
        "            if best_iou > iou_threshold:\n",
        "                if  amount_bboxes[detection[0]][best_gt_idx]==0:\n",
        "                    TP[detection_idx] = 1\n",
        "                    amount_bboxes[detection[0]][best_gt_idx] = 1\n",
        "                else:\n",
        "                    FP[detection_idx] = 1\n",
        "            else:\n",
        "                FP[detection_idx] = 1\n",
        "\n",
        "        TP_cumsum = torch.cumsum(TP, dim=0)\n",
        "        FP_cumsum = torch.cumsum(FP, dim=0)\n",
        "        recalls = TP_cumsum / (total_true_bboxes + epsilon)\n",
        "        precisions = torch.divide(TP_cumsum, (TP_cumsum + FP_cumsum + epsilon))\n",
        "        precisions = torch.cat((torch.tensor([1]), precisions))\n",
        "        recalls = torch.cat((torch.tensor([0]), recalls))\n",
        "        # torch.trapz for numerical integration\n",
        "        average_precisions.append(torch.trapz(precisions, recalls))        \n",
        "\n",
        "    return sum(average_precisions) / len(average_precisions) "
      ]
    },
    {
      "cell_type": "code",
      "execution_count": 15,
      "metadata": {
        "colab": {
          "base_uri": "https://localhost:8080/",
          "height": 864,
          "referenced_widgets": [
            "911c0de1dd5b49648c019308a852beb2",
            "81ecfc705c224dca8a7400e1be68a58f",
            "c2a21470bf144eeeb3d72510a2042e5f",
            "3b3ee3080b894079a6dcdad2daa9b3d5",
            "a060969641b24c9e95c45b890bad5e89",
            "c0350c665a1342b082890a654f3d7a8f",
            "819d141ea68944bea34bdea015842aa4",
            "d8f2edd175f740eb92f3de92bb137aa8"
          ]
        },
        "id": "yxsf5m9OQbXv",
        "outputId": "87edab43-1f9d-4f41-89fc-76273866bd72"
      },
      "outputs": [
        {
          "name": "stderr",
          "output_type": "stream",
          "text": [
            "Downloading: \"https://download.pytorch.org/models/vgg16-397923af.pth\" to /root/.cache/torch/hub/checkpoints/vgg16-397923af.pth\n"
          ]
        },
        {
          "data": {
            "application/vnd.jupyter.widget-view+json": {
              "model_id": "911c0de1dd5b49648c019308a852beb2",
              "version_major": 2,
              "version_minor": 0
            },
            "text/plain": [
              "HBox(children=(FloatProgress(value=0.0, max=553433881.0), HTML(value='')))"
            ]
          },
          "metadata": {
            "tags": []
          },
          "output_type": "display_data"
        },
        {
          "name": "stdout",
          "output_type": "stream",
          "text": [
            "\n",
            "VGG(\n",
            "  (features): Sequential(\n",
            "    (0): Conv2d(3, 64, kernel_size=(3, 3), stride=(1, 1), padding=(1, 1))\n",
            "    (1): ReLU(inplace=True)\n",
            "    (2): Conv2d(64, 64, kernel_size=(3, 3), stride=(1, 1), padding=(1, 1))\n",
            "    (3): ReLU(inplace=True)\n",
            "    (4): MaxPool2d(kernel_size=2, stride=2, padding=0, dilation=1, ceil_mode=False)\n",
            "    (5): Conv2d(64, 128, kernel_size=(3, 3), stride=(1, 1), padding=(1, 1))\n",
            "    (6): ReLU(inplace=True)\n",
            "    (7): Conv2d(128, 128, kernel_size=(3, 3), stride=(1, 1), padding=(1, 1))\n",
            "    (8): ReLU(inplace=True)\n",
            "    (9): MaxPool2d(kernel_size=2, stride=2, padding=0, dilation=1, ceil_mode=False)\n",
            "    (10): Conv2d(128, 256, kernel_size=(3, 3), stride=(1, 1), padding=(1, 1))\n",
            "    (11): ReLU(inplace=True)\n",
            "    (12): Conv2d(256, 256, kernel_size=(3, 3), stride=(1, 1), padding=(1, 1))\n",
            "    (13): ReLU(inplace=True)\n",
            "    (14): Conv2d(256, 256, kernel_size=(3, 3), stride=(1, 1), padding=(1, 1))\n",
            "    (15): ReLU(inplace=True)\n",
            "    (16): MaxPool2d(kernel_size=2, stride=2, padding=0, dilation=1, ceil_mode=False)\n",
            "    (17): Conv2d(256, 512, kernel_size=(3, 3), stride=(1, 1), padding=(1, 1))\n",
            "    (18): ReLU(inplace=True)\n",
            "    (19): Conv2d(512, 512, kernel_size=(3, 3), stride=(1, 1), padding=(1, 1))\n",
            "    (20): ReLU(inplace=True)\n",
            "    (21): Conv2d(512, 512, kernel_size=(3, 3), stride=(1, 1), padding=(1, 1))\n",
            "    (22): ReLU(inplace=True)\n",
            "    (23): MaxPool2d(kernel_size=2, stride=2, padding=0, dilation=1, ceil_mode=False)\n",
            "    (24): Conv2d(512, 512, kernel_size=(3, 3), stride=(1, 1), padding=(1, 1))\n",
            "    (25): ReLU(inplace=True)\n",
            "    (26): Conv2d(512, 512, kernel_size=(3, 3), stride=(1, 1), padding=(1, 1))\n",
            "    (27): ReLU(inplace=True)\n",
            "    (28): Conv2d(512, 512, kernel_size=(3, 3), stride=(1, 1), padding=(1, 1))\n",
            "    (29): ReLU(inplace=True)\n",
            "    (30): MaxPool2d(kernel_size=2, stride=2, padding=0, dilation=1, ceil_mode=False)\n",
            "  )\n",
            "  (avgpool): AdaptiveAvgPool2d(output_size=(7, 7))\n",
            "  (classifier): Sequential(\n",
            "    (0): Linear(in_features=25088, out_features=4096, bias=True)\n",
            "    (1): ReLU(inplace=True)\n",
            "    (2): Dropout(p=0.5, inplace=False)\n",
            "    (3): Linear(in_features=4096, out_features=4096, bias=True)\n",
            "    (4): ReLU(inplace=True)\n",
            "    (5): Dropout(p=0.5, inplace=False)\n",
            "    (6): Linear(in_features=4096, out_features=1000, bias=True)\n",
            "  )\n",
            ")\n"
          ]
        }
      ],
      "source": [
        "# Load pretrain model & modify it\n",
        "\n",
        "model = torchvision.models.vgg16(pretrained=True)\n",
        "print(model)"
      ]
    },
    {
      "cell_type": "code",
      "execution_count": 16,
      "metadata": {
        "colab": {
          "base_uri": "https://localhost:8080/"
        },
        "id": "WbkDDXu0RO9p",
        "outputId": "c5778626-377e-45ad-f67f-d9c9a0b227c6"
      },
      "outputs": [
        {
          "name": "stdout",
          "output_type": "stream",
          "text": [
            "VGG(\n",
            "  (features): Sequential(\n",
            "    (0): Conv2d(3, 64, kernel_size=(3, 3), stride=(1, 1), padding=(1, 1))\n",
            "    (1): ReLU(inplace=True)\n",
            "    (2): Conv2d(64, 64, kernel_size=(3, 3), stride=(1, 1), padding=(1, 1))\n",
            "    (3): ReLU(inplace=True)\n",
            "    (4): MaxPool2d(kernel_size=2, stride=2, padding=0, dilation=1, ceil_mode=False)\n",
            "    (5): Conv2d(64, 128, kernel_size=(3, 3), stride=(1, 1), padding=(1, 1))\n",
            "    (6): ReLU(inplace=True)\n",
            "    (7): Conv2d(128, 128, kernel_size=(3, 3), stride=(1, 1), padding=(1, 1))\n",
            "    (8): ReLU(inplace=True)\n",
            "    (9): MaxPool2d(kernel_size=2, stride=2, padding=0, dilation=1, ceil_mode=False)\n",
            "    (10): Conv2d(128, 256, kernel_size=(3, 3), stride=(1, 1), padding=(1, 1))\n",
            "    (11): ReLU(inplace=True)\n",
            "    (12): Conv2d(256, 256, kernel_size=(3, 3), stride=(1, 1), padding=(1, 1))\n",
            "    (13): ReLU(inplace=True)\n",
            "    (14): Conv2d(256, 256, kernel_size=(3, 3), stride=(1, 1), padding=(1, 1))\n",
            "    (15): ReLU(inplace=True)\n",
            "    (16): MaxPool2d(kernel_size=2, stride=2, padding=0, dilation=1, ceil_mode=False)\n",
            "    (17): Conv2d(256, 512, kernel_size=(3, 3), stride=(1, 1), padding=(1, 1))\n",
            "    (18): ReLU(inplace=True)\n",
            "    (19): Conv2d(512, 512, kernel_size=(3, 3), stride=(1, 1), padding=(1, 1))\n",
            "    (20): ReLU(inplace=True)\n",
            "    (21): Conv2d(512, 512, kernel_size=(3, 3), stride=(1, 1), padding=(1, 1))\n",
            "    (22): ReLU(inplace=True)\n",
            "    (23): MaxPool2d(kernel_size=2, stride=2, padding=0, dilation=1, ceil_mode=False)\n",
            "    (24): Conv2d(512, 512, kernel_size=(3, 3), stride=(1, 1), padding=(1, 1))\n",
            "    (25): ReLU(inplace=True)\n",
            "    (26): Conv2d(512, 512, kernel_size=(3, 3), stride=(1, 1), padding=(1, 1))\n",
            "    (27): ReLU(inplace=True)\n",
            "    (28): Conv2d(512, 512, kernel_size=(3, 3), stride=(1, 1), padding=(1, 1))\n",
            "    (29): ReLU(inplace=True)\n",
            "    (30): MaxPool2d(kernel_size=2, stride=2, padding=0, dilation=1, ceil_mode=False)\n",
            "  )\n",
            "  (avgpool): AdaptiveAvgPool2d(output_size=(7, 7))\n",
            "  (classifier): Sequential(\n",
            "    (0): Linear(in_features=25088, out_features=4096, bias=True)\n",
            "    (1): ReLU(inplace=True)\n",
            "    (2): Dropout(p=0.5, inplace=False)\n",
            "    (3): Linear(in_features=4096, out_features=4096, bias=True)\n",
            "    (4): ReLU(inplace=True)\n",
            "    (5): Dropout(p=0.5, inplace=False)\n",
            "    (6): Linear(in_features=4096, out_features=1000, bias=True)\n",
            "    (7): ReLU(inplace=True)\n",
            "    (8): Dropout(p=0.5, inplace=False)\n",
            "    (9): Linear(in_features=1000, out_features=588, bias=False)\n",
            "    (10): Sigmoid()\n",
            "  )\n",
            ")\n"
          ]
        }
      ],
      "source": [
        "# If you want to do finetuning then set requires_grad = False\n",
        "# Remove these two lines if you want to train entire model,\n",
        "# and only want to load the pretrain weights.\n",
        "for param in model.parameters():\n",
        "    param.requires_grad = False\n",
        "    \n",
        "#model.avgpool = Identity()\n",
        "model.classifier = nn.Sequential(\n",
        "                   nn. Linear(in_features=25088, out_features=4096, bias=True),\n",
        "                   nn. ReLU(inplace=True),\n",
        "                   nn.Dropout(p=0.5, inplace=False),\n",
        "                   nn.Linear(in_features=4096, out_features=4096, bias=True),\n",
        "                   nn.ReLU(inplace=True),\n",
        "                   nn.Dropout(p=0.5, inplace=False),\n",
        "                   nn.Linear(in_features=4096, out_features=1000, bias=True),\n",
        "                   nn.ReLU(inplace=True),\n",
        "                   nn.Dropout(p=0.5, inplace=False),\n",
        "                   nn.Linear(in_features=1000, out_features=588, bias=False),\n",
        "                   nn.Sigmoid() )\n",
        "\n",
        "print(model)"
      ]
    },
    {
      "cell_type": "code",
      "execution_count": 17,
      "metadata": {
        "colab": {
          "base_uri": "https://localhost:8080/"
        },
        "id": "OYNTDvXudcGU",
        "outputId": "01289ca3-d586-432e-8924-ed7d2e3d4b55"
      },
      "outputs": [
        {
          "name": "stderr",
          "output_type": "stream",
          "text": [
            "/usr/local/lib/python3.7/dist-packages/torch/nn/functional.py:718: UserWarning: Named tensors and all their associated APIs are an experimental feature and subject to change. Please do not use them for anything important until they are released as stable. (Triggered internally at  /pytorch/c10/core/TensorImpl.h:1156.)\n",
            "  return torch.max_pool2d(input, kernel_size, stride, padding, dilation, ceil_mode)\n"
          ]
        },
        {
          "name": "stdout",
          "output_type": "stream",
          "text": [
            "torch.Size([2, 588])\n"
          ]
        }
      ],
      "source": [
        "x = torch.randn((2,3,224,224))\n",
        "print(model(x).shape) "
      ]
    },
    {
      "cell_type": "code",
      "execution_count": 18,
      "metadata": {
        "id": "auFmNyNei3oa"
      },
      "outputs": [],
      "source": [
        "LEARNING_RATE = 2e-5\n",
        "DEVICE = \"cuda\" if torch.cuda.is_available else \"cpu\"\n",
        "BATCH_SIZE = 16  #16 # 64 in original paper but resource exhausted error otherwise.\n",
        "WEIGHT_DECAY = 0\n",
        "EPOCHS = 20\n",
        "NUM_WORKERS = 2\n",
        "PIN_MEMORY = True\n",
        "LOAD_MODEL = False\n",
        "LOAD_MODEL_FILE = \"model.pth\" "
      ]
    },
    {
      "cell_type": "code",
      "execution_count": 19,
      "metadata": {
        "colab": {
          "base_uri": "https://localhost:8080/"
        },
        "id": "Ii2cVYiY_Gpa",
        "outputId": "bde54356-d619-4b8d-d9db-8afff974a811"
      },
      "outputs": [
        {
          "name": "stdout",
          "output_type": "stream",
          "text": [
            "Mounted at /content/drive\n"
          ]
        }
      ],
      "source": [
        "from google.colab import drive\n",
        "drive.mount('/content/drive') "
      ]
    },
    {
      "cell_type": "code",
      "execution_count": 20,
      "metadata": {
        "colab": {
          "base_uri": "https://localhost:8080/"
        },
        "id": "1FQQS7fvmhvX",
        "outputId": "4ce84c95-a6f3-4c71-f47e-c629c3f37c37"
      },
      "outputs": [
        {
          "name": "stderr",
          "output_type": "stream",
          "text": [
            "Epoch 0: 100%|██████████| 161/161 [01:20<00:00,  2.00batch/s]\n"
          ]
        },
        {
          "name": "stdout",
          "output_type": "stream",
          "text": [
            "Mean loss was 75.95041142339292\n"
          ]
        },
        {
          "name": "stderr",
          "output_type": "stream",
          "text": [
            "Epoch 1:   0%|          | 0/161 [00:00<?, ?batch/s]"
          ]
        },
        {
          "name": "stdout",
          "output_type": "stream",
          "text": [
            "Train mAP: 0.0\n"
          ]
        },
        {
          "name": "stderr",
          "output_type": "stream",
          "text": [
            "Epoch 1: 100%|██████████| 161/161 [01:25<00:00,  1.88batch/s]\n"
          ]
        },
        {
          "name": "stdout",
          "output_type": "stream",
          "text": [
            "Mean loss was 43.05265763087302\n"
          ]
        },
        {
          "name": "stderr",
          "output_type": "stream",
          "text": [
            "Epoch 2:   0%|          | 0/161 [00:00<?, ?batch/s]"
          ]
        },
        {
          "name": "stdout",
          "output_type": "stream",
          "text": [
            "Train mAP: 0.0\n"
          ]
        },
        {
          "name": "stderr",
          "output_type": "stream",
          "text": [
            "Epoch 2: 100%|██████████| 161/161 [01:25<00:00,  1.89batch/s]\n"
          ]
        },
        {
          "name": "stdout",
          "output_type": "stream",
          "text": [
            "Mean loss was 39.000006800112516\n"
          ]
        },
        {
          "name": "stderr",
          "output_type": "stream",
          "text": [
            "Epoch 3:   0%|          | 0/161 [00:00<?, ?batch/s]"
          ]
        },
        {
          "name": "stdout",
          "output_type": "stream",
          "text": [
            "Train mAP: 0.001104999566450715\n"
          ]
        },
        {
          "name": "stderr",
          "output_type": "stream",
          "text": [
            "Epoch 3: 100%|██████████| 161/161 [01:25<00:00,  1.89batch/s]\n"
          ]
        },
        {
          "name": "stdout",
          "output_type": "stream",
          "text": [
            "Mean loss was 35.53345983517096\n"
          ]
        },
        {
          "name": "stderr",
          "output_type": "stream",
          "text": [
            "Epoch 4:   0%|          | 0/161 [00:00<?, ?batch/s]"
          ]
        },
        {
          "name": "stdout",
          "output_type": "stream",
          "text": [
            "Train mAP: 0.1149347573518753\n"
          ]
        },
        {
          "name": "stderr",
          "output_type": "stream",
          "text": [
            "Epoch 4: 100%|██████████| 161/161 [01:25<00:00,  1.88batch/s]\n"
          ]
        },
        {
          "name": "stdout",
          "output_type": "stream",
          "text": [
            "Mean loss was 32.37669768244584\n"
          ]
        },
        {
          "name": "stderr",
          "output_type": "stream",
          "text": [
            "Epoch 5:   0%|          | 0/161 [00:00<?, ?batch/s]"
          ]
        },
        {
          "name": "stdout",
          "output_type": "stream",
          "text": [
            "Train mAP: 0.2521315813064575\n"
          ]
        },
        {
          "name": "stderr",
          "output_type": "stream",
          "text": [
            "Epoch 5: 100%|██████████| 161/161 [01:25<00:00,  1.88batch/s]\n"
          ]
        },
        {
          "name": "stdout",
          "output_type": "stream",
          "text": [
            "Mean loss was 29.302443225931675\n"
          ]
        },
        {
          "name": "stderr",
          "output_type": "stream",
          "text": [
            "Epoch 6:   0%|          | 0/161 [00:00<?, ?batch/s]"
          ]
        },
        {
          "name": "stdout",
          "output_type": "stream",
          "text": [
            "Train mAP: 0.39158064126968384\n"
          ]
        },
        {
          "name": "stderr",
          "output_type": "stream",
          "text": [
            "Epoch 6: 100%|██████████| 161/161 [01:25<00:00,  1.88batch/s]\n"
          ]
        },
        {
          "name": "stdout",
          "output_type": "stream",
          "text": [
            "Mean loss was 26.71432886064423\n"
          ]
        },
        {
          "name": "stderr",
          "output_type": "stream",
          "text": [
            "Epoch 7:   0%|          | 0/161 [00:00<?, ?batch/s]"
          ]
        },
        {
          "name": "stdout",
          "output_type": "stream",
          "text": [
            "Train mAP: 0.45775383710861206\n"
          ]
        },
        {
          "name": "stderr",
          "output_type": "stream",
          "text": [
            "Epoch 7: 100%|██████████| 161/161 [01:25<00:00,  1.87batch/s]\n"
          ]
        },
        {
          "name": "stdout",
          "output_type": "stream",
          "text": [
            "Mean loss was 24.87837935974879\n"
          ]
        },
        {
          "name": "stderr",
          "output_type": "stream",
          "text": [
            "Epoch 8:   0%|          | 0/161 [00:00<?, ?batch/s]"
          ]
        },
        {
          "name": "stdout",
          "output_type": "stream",
          "text": [
            "Train mAP: 0.5211357474327087\n"
          ]
        },
        {
          "name": "stderr",
          "output_type": "stream",
          "text": [
            "Epoch 8: 100%|██████████| 161/161 [01:25<00:00,  1.89batch/s]\n"
          ]
        },
        {
          "name": "stdout",
          "output_type": "stream",
          "text": [
            "Mean loss was 23.055909310808833\n"
          ]
        },
        {
          "name": "stderr",
          "output_type": "stream",
          "text": [
            "Epoch 9:   0%|          | 0/161 [00:00<?, ?batch/s]"
          ]
        },
        {
          "name": "stdout",
          "output_type": "stream",
          "text": [
            "Train mAP: 0.5980434417724609\n"
          ]
        },
        {
          "name": "stderr",
          "output_type": "stream",
          "text": [
            "Epoch 9: 100%|██████████| 161/161 [01:25<00:00,  1.89batch/s]\n"
          ]
        },
        {
          "name": "stdout",
          "output_type": "stream",
          "text": [
            "Mean loss was 21.662961675513603\n"
          ]
        },
        {
          "name": "stderr",
          "output_type": "stream",
          "text": [
            "Epoch 10:   0%|          | 0/161 [00:00<?, ?batch/s]"
          ]
        },
        {
          "name": "stdout",
          "output_type": "stream",
          "text": [
            "Train mAP: 0.5909708738327026\n"
          ]
        },
        {
          "name": "stderr",
          "output_type": "stream",
          "text": [
            "Epoch 10: 100%|██████████| 161/161 [01:25<00:00,  1.89batch/s]\n"
          ]
        },
        {
          "name": "stdout",
          "output_type": "stream",
          "text": [
            "Mean loss was 20.293490854109297\n"
          ]
        },
        {
          "name": "stderr",
          "output_type": "stream",
          "text": [
            "Epoch 11:   0%|          | 0/161 [00:00<?, ?batch/s]"
          ]
        },
        {
          "name": "stdout",
          "output_type": "stream",
          "text": [
            "Train mAP: 0.6748883724212646\n"
          ]
        },
        {
          "name": "stderr",
          "output_type": "stream",
          "text": [
            "Epoch 11: 100%|██████████| 161/161 [01:25<00:00,  1.89batch/s]\n"
          ]
        },
        {
          "name": "stdout",
          "output_type": "stream",
          "text": [
            "Mean loss was 18.99006792032941\n"
          ]
        },
        {
          "name": "stderr",
          "output_type": "stream",
          "text": [
            "Epoch 12:   0%|          | 0/161 [00:00<?, ?batch/s]"
          ]
        },
        {
          "name": "stdout",
          "output_type": "stream",
          "text": [
            "Train mAP: 0.716600775718689\n"
          ]
        },
        {
          "name": "stderr",
          "output_type": "stream",
          "text": [
            "Epoch 12: 100%|██████████| 161/161 [01:25<00:00,  1.88batch/s]\n"
          ]
        },
        {
          "name": "stdout",
          "output_type": "stream",
          "text": [
            "Mean loss was 17.863544624044287\n"
          ]
        },
        {
          "name": "stderr",
          "output_type": "stream",
          "text": [
            "Epoch 13:   0%|          | 0/161 [00:00<?, ?batch/s]"
          ]
        },
        {
          "name": "stdout",
          "output_type": "stream",
          "text": [
            "Train mAP: 0.7477257251739502\n"
          ]
        },
        {
          "name": "stderr",
          "output_type": "stream",
          "text": [
            "Epoch 13: 100%|██████████| 161/161 [01:25<00:00,  1.89batch/s]\n"
          ]
        },
        {
          "name": "stdout",
          "output_type": "stream",
          "text": [
            "Mean loss was 16.474958147321427\n"
          ]
        },
        {
          "name": "stderr",
          "output_type": "stream",
          "text": [
            "Epoch 14:   0%|          | 0/161 [00:00<?, ?batch/s]"
          ]
        },
        {
          "name": "stdout",
          "output_type": "stream",
          "text": [
            "Train mAP: 0.7435956001281738\n"
          ]
        },
        {
          "name": "stderr",
          "output_type": "stream",
          "text": [
            "Epoch 14: 100%|██████████| 161/161 [01:25<00:00,  1.88batch/s]\n"
          ]
        },
        {
          "name": "stdout",
          "output_type": "stream",
          "text": [
            "Mean loss was 15.60751512183906\n"
          ]
        },
        {
          "name": "stderr",
          "output_type": "stream",
          "text": [
            "Epoch 15:   0%|          | 0/161 [00:00<?, ?batch/s]"
          ]
        },
        {
          "name": "stdout",
          "output_type": "stream",
          "text": [
            "Train mAP: 0.7759624719619751\n"
          ]
        },
        {
          "name": "stderr",
          "output_type": "stream",
          "text": [
            "Epoch 15: 100%|██████████| 161/161 [01:25<00:00,  1.89batch/s]\n"
          ]
        },
        {
          "name": "stdout",
          "output_type": "stream",
          "text": [
            "Mean loss was 15.024406385717924\n"
          ]
        },
        {
          "name": "stderr",
          "output_type": "stream",
          "text": [
            "Epoch 16:   0%|          | 0/161 [00:00<?, ?batch/s]"
          ]
        },
        {
          "name": "stdout",
          "output_type": "stream",
          "text": [
            "Train mAP: 0.7888659834861755\n"
          ]
        },
        {
          "name": "stderr",
          "output_type": "stream",
          "text": [
            "Epoch 16: 100%|██████████| 161/161 [01:25<00:00,  1.88batch/s]\n"
          ]
        },
        {
          "name": "stdout",
          "output_type": "stream",
          "text": [
            "Mean loss was 13.945226669311523\n"
          ]
        },
        {
          "name": "stderr",
          "output_type": "stream",
          "text": [
            "Epoch 17:   0%|          | 0/161 [00:00<?, ?batch/s]"
          ]
        },
        {
          "name": "stdout",
          "output_type": "stream",
          "text": [
            "Train mAP: 0.7855570316314697\n"
          ]
        },
        {
          "name": "stderr",
          "output_type": "stream",
          "text": [
            "Epoch 17: 100%|██████████| 161/161 [01:25<00:00,  1.89batch/s]\n"
          ]
        },
        {
          "name": "stdout",
          "output_type": "stream",
          "text": [
            "Mean loss was 13.265447995677498\n"
          ]
        },
        {
          "name": "stderr",
          "output_type": "stream",
          "text": [
            "Epoch 18:   0%|          | 0/161 [00:00<?, ?batch/s]"
          ]
        },
        {
          "name": "stdout",
          "output_type": "stream",
          "text": [
            "Train mAP: 0.8041281700134277\n"
          ]
        },
        {
          "name": "stderr",
          "output_type": "stream",
          "text": [
            "Epoch 18: 100%|██████████| 161/161 [01:25<00:00,  1.89batch/s]\n"
          ]
        },
        {
          "name": "stdout",
          "output_type": "stream",
          "text": [
            "Mean loss was 12.57233296566128\n"
          ]
        },
        {
          "name": "stderr",
          "output_type": "stream",
          "text": [
            "Epoch 19:   0%|          | 0/161 [00:00<?, ?batch/s]"
          ]
        },
        {
          "name": "stdout",
          "output_type": "stream",
          "text": [
            "Train mAP: 0.796621561050415\n"
          ]
        },
        {
          "name": "stderr",
          "output_type": "stream",
          "text": [
            "Epoch 19: 100%|██████████| 161/161 [01:25<00:00,  1.89batch/s]\n"
          ]
        },
        {
          "name": "stdout",
          "output_type": "stream",
          "text": [
            "Mean loss was 11.887488847933941\n",
            "Train mAP: 0.817078709602356\n",
            "=> Saving checkpoint\n"
          ]
        }
      ],
      "source": [
        "model.to(DEVICE)\n",
        "optimizer = optim.Adam(model.parameters(), lr=LEARNING_RATE, weight_decay=WEIGHT_DECAY)\n",
        "\n",
        "scheduler = optim.lr_scheduler.ReduceLROnPlateau(optimizer=optimizer, factor=0.1, patience=3, mode='max', verbose=True)\n",
        "loss_fn = YOLOLoss()\n",
        "\n",
        "if LOAD_MODEL:\n",
        "    load_checkpoint(torch.load(LOAD_MODEL_FILE), model, optimizer)\n",
        "\n",
        "train_dataset = LoadData(file_dir= '/content/train',transform=transform)\n",
        "\n",
        "test_dataset = LoadData(file_dir='/content/test',transform=transform)\n",
        "\n",
        "train_loader = DataLoader(\n",
        "        dataset=train_dataset,\n",
        "        batch_size=BATCH_SIZE,\n",
        "        shuffle=True,\n",
        "        drop_last=False,\n",
        "    )\n",
        "\n",
        "test_loader = DataLoader(\n",
        "        dataset=test_dataset,\n",
        "        batch_size=BATCH_SIZE,\n",
        "        shuffle=True,\n",
        "        drop_last=False,\n",
        "    )\n",
        "\n",
        "for epoch in range(EPOCHS):\n",
        "        #print(f\"Epoch-{epoch}\")\n",
        "    train_fn(train_loader, model, optimizer, loss_fn, epoch)\n",
        "        \n",
        "    pred_boxes, target_boxes = get_bboxes(\n",
        "            train_loader, model, iou_threshold=0.5, threshold=0.4, device=DEVICE )\n",
        "\n",
        "    mean_avg_prec = mean_average_precision(\n",
        "            pred_boxes, target_boxes, iou_threshold=0.5)\n",
        "    print(f\"Train mAP: {mean_avg_prec}\")\n",
        "        \n",
        "    scheduler.step(mean_avg_prec)\n",
        "    \n",
        "checkpoint = {\n",
        "            \"state_dict\": model.state_dict(),\n",
        "            \"optimizer\": optimizer.state_dict(),\n",
        "    }\n",
        "save_checkpoint(checkpoint, filename=LOAD_MODEL_FILE) "
      ]
    },
    {
      "cell_type": "code",
      "execution_count": 21,
      "metadata": {
        "colab": {
          "base_uri": "https://localhost:8080/",
          "height": 34
        },
        "id": "8d89Tlh9_UHS",
        "outputId": "6a153049-7771-4360-8a65-22c752d6086c"
      },
      "outputs": [
        {
          "data": {
            "application/vnd.google.colaboratory.intrinsic+json": {
              "type": "string"
            },
            "text/plain": [
              "'/content/drive/MyDrive/SpanIdea/YOLO_from_scratch/weights/model.pth'"
            ]
          },
          "execution_count": 21,
          "metadata": {
            "tags": []
          },
          "output_type": "execute_result"
        }
      ],
      "source": [
        "import shutil\n",
        "shutil.copy('/content/model.pth', '/content/drive/MyDrive/SpanIdea/YOLO_from_scratch/weights')"
      ]
    },
    {
      "cell_type": "code",
      "execution_count": 23,
      "metadata": {
        "colab": {
          "base_uri": "https://localhost:8080/"
        },
        "id": "6GyHgDeeWVwt",
        "outputId": "41fffef1-69f8-4900-e3d2-02ae775455e5"
      },
      "outputs": [
        {
          "name": "stdout",
          "output_type": "stream",
          "text": [
            "=> Loading checkpoint\n",
            "Test mAP: 0.7430607080459595\n"
          ]
        }
      ],
      "source": [
        "\"\"\" Evaluate the model on test dataset\"\"\"\n",
        "\n",
        "\n",
        "LOAD_MODEL_FILE = '/content/model.pth'\n",
        "#LOAD_MODEL_FILE = '/content/drive/MyDrive/SpanIdea/YOLO_from_scratch/weights/model_22.7_mAP.pth'\n",
        "\n",
        "optimizer = optim.Adam(\n",
        "       model.parameters(), lr=LEARNING_RATE, weight_decay=WEIGHT_DECAY\n",
        "   )\n",
        "load_checkpoint(torch.load(LOAD_MODEL_FILE), model, optimizer)\n",
        "\n",
        "model.eval()\n",
        "#Get mAP on test data:\n",
        "\n",
        "test_dataset = LoadData(file_dir='/content/test',transform=transform)\n",
        "\n",
        "test_loader = DataLoader(dataset=test_dataset, batch_size=BATCH_SIZE, shuffle=False, drop_last=False)\n",
        "\n",
        "pred_boxes, target_boxes = get_bboxes(test_loader, model, iou_threshold=0.5, threshold=0.4, device=DEVICE , \n",
        "                                      train = False)\n",
        "\n",
        "mean_avg_prec = mean_average_precision(pred_boxes, target_boxes, iou_threshold=0.5)\n",
        "print(f\"Test mAP: {mean_avg_prec}\") "
      ]
    },
    {
      "cell_type": "code",
      "execution_count": 26,
      "metadata": {
        "id": "JoZkGdmNhpRU"
      },
      "outputs": [],
      "source": [
        "\"\"\" This function assigns unique color for each class by choosing random colors \"\"\"\n",
        "\n",
        "def class_colors(names):\n",
        "    \"\"\"\n",
        "    Create a dict with one random BGR color for each\n",
        "    class name\n",
        "    \"\"\"\n",
        "    return {name: (\n",
        "        random.randint(0, 255),\n",
        "        random.randint(0, 255),\n",
        "        random.randint(0, 255)) for name in names}\n",
        "\n",
        "\n",
        "class_names=['cat','dog']\n",
        "colors=class_colors(class_names)   "
      ]
    },
    {
      "cell_type": "code",
      "execution_count": 32,
      "metadata": {
        "colab": {
          "base_uri": "https://localhost:8080/",
          "height": 482
        },
        "id": "IA_-eQJxhtIX",
        "outputId": "fa1406b1-1f72-47a4-9873-bf023bd8521a"
      },
      "outputs": [
        {
          "data": {
            "image/png": "[encoded data removed]",
            "text/plain": [
              "<PIL.Image.Image image mode=RGB size=448x448 at 0x7F3E00F461D0>"
            ]
          },
          "metadata": {
            "tags": []
          },
          "output_type": "display_data"
        },
        {
          "data": {
            "text/plain": [
              "True"
            ]
          },
          "execution_count": 32,
          "metadata": {
            "tags": []
          },
          "output_type": "execute_result"
        }
      ],
      "source": [
        "\"\"\" Visualize the result by drawing predicted bounding box on the input image  \"\"\"\n",
        "\n",
        "S=7\n",
        "B=2\n",
        "C=2\n",
        "img_path = '/content/test/shiba_inu_132_jpg.rf.2f1638e1a50cb8b67b96d96ef2461e01.jpg'\n",
        "image = Image.open(img_path)\n",
        "image = image.convert(\"RGB\")\n",
        "image = image.resize((448,448)) \n",
        "tran = transforms.ToTensor()\n",
        "x = tran(image)\n",
        "x = x.unsqueeze(0)\n",
        "predictions = model(x.to(DEVICE))\n",
        "predictions = predictions.reshape(-1, S, S, 5*B + C )\n",
        "bboxes = tensor_to_boxes(predictions)\n",
        "\n",
        "batch_size = len(bboxes)\n",
        "for idx in range(batch_size):\n",
        "    nms_boxes = non_max_suppression(\n",
        "                bboxes[idx],\n",
        "                iou_threshold=0.5,\n",
        "                threshold=0.2\n",
        "                ) \n",
        "\n",
        "img = cv2.imread(img_path)\n",
        "img = cv2.resize(img, (448,448))\n",
        "width , height, ch = img.shape\n",
        "for box in nms_boxes:\n",
        "    x1 = int(width* (box[2] - box[4]/2))\n",
        "    x2 = int(width* (box[2] + box[4]/2))\n",
        "    y1 = int(height* (box[3] - box[5]/2))\n",
        "    y2 = int(height* (box[3] + box[5]/2))\n",
        "    label = class_names[int(box[0])]\n",
        "    confidence = float(box[1]) \n",
        "    shape = [x1,y1,x2,y2]\n",
        "    #draw bounding box and write confidence and text\n",
        "    cv2.rectangle(img, (x1, y1), (x2, y2), colors[label], 2)\n",
        "    cv2.putText(img, \"{} [{:.2f}]\".format(label, float(confidence)),\n",
        "                    (x1, y1 - 5), cv2.FONT_HERSHEY_SIMPLEX, 0.5,\n",
        "                    colors[label], 2)\n",
        "cv2_imshow(img)\n",
        "\n",
        "\n",
        "# save image\n",
        "cv2.imwrite('output.jpg', img)"
      ]
    }
  ],
  "metadata": {
    "accelerator": "GPU",
    "colab": {
      "collapsed_sections": [],
      "name": "YOLOv1_transfer_learning_vgg16.ipynb",
      "provenance": []
    },
    "kernelspec": {
      "display_name": "Python 3",
      "name": "python3"
    },
    "language_info": {
      "codemirror_mode": {
        "name": "ipython",
        "version": 3
      },
      "file_extension": ".py",
      "mimetype": "text/x-python",
      "name": "python",
      "nbconvert_exporter": "python",
      "pygments_lexer": "ipython3",
      "version": "3.12.3"
    },
    "widgets": {
      "application/vnd.jupyter.widget-state+json": {
        "3b3ee3080b894079a6dcdad2daa9b3d5": {
          "model_module": "@jupyter-widgets/controls",
          "model_module_version": "1.5.0",
          "model_name": "HTMLModel",
          "state": {
            "_dom_classes": [],
            "_model_module": "@jupyter-widgets/controls",
            "_model_module_version": "1.5.0",
            "_model_name": "HTMLModel",
            "_view_count": null,
            "_view_module": "@jupyter-widgets/controls",
            "_view_module_version": "1.5.0",
            "_view_name": "HTMLView",
            "description": "",
            "description_tooltip": null,
            "layout": "IPY_MODEL_d8f2edd175f740eb92f3de92bb137aa8",
            "placeholder": "​",
            "style": "IPY_MODEL_819d141ea68944bea34bdea015842aa4",
            "value": " 528M/528M [01:28&lt;00:00, 6.23MB/s]"
          }
        },
        "819d141ea68944bea34bdea015842aa4": {
          "model_module": "@jupyter-widgets/controls",
          "model_module_version": "1.5.0",
          "model_name": "DescriptionStyleModel",
          "state": {
            "_model_module": "@jupyter-widgets/controls",
            "_model_module_version": "1.5.0",
            "_model_name": "DescriptionStyleModel",
            "_view_count": null,
            "_view_module": "@jupyter-widgets/base",
            "_view_module_version": "1.2.0",
            "_view_name": "StyleView",
            "description_width": ""
          }
        },
        "81ecfc705c224dca8a7400e1be68a58f": {
          "model_module": "@jupyter-widgets/base",
          "model_module_version": "1.2.0",
          "model_name": "LayoutModel",
          "state": {
            "_model_module": "@jupyter-widgets/base",
            "_model_module_version": "1.2.0",
            "_model_name": "LayoutModel",
            "_view_count": null,
            "_view_module": "@jupyter-widgets/base",
            "_view_module_version": "1.2.0",
            "_view_name": "LayoutView",
            "align_content": null,
            "align_items": null,
            "align_self": null,
            "border": null,
            "bottom": null,
            "display": null,
            "flex": null,
            "flex_flow": null,
            "grid_area": null,
            "grid_auto_columns": null,
            "grid_auto_flow": null,
            "grid_auto_rows": null,
            "grid_column": null,
            "grid_gap": null,
            "grid_row": null,
            "grid_template_areas": null,
            "grid_template_columns": null,
            "grid_template_rows": null,
            "height": null,
            "justify_content": null,
            "justify_items": null,
            "left": null,
            "margin": null,
            "max_height": null,
            "max_width": null,
            "min_height": null,
            "min_width": null,
            "object_fit": null,
            "object_position": null,
            "order": null,
            "overflow": null,
            "overflow_x": null,
            "overflow_y": null,
            "padding": null,
            "right": null,
            "top": null,
            "visibility": null,
            "width": null
          }
        },
        "911c0de1dd5b49648c019308a852beb2": {
          "model_module": "@jupyter-widgets/controls",
          "model_module_version": "1.5.0",
          "model_name": "HBoxModel",
          "state": {
            "_dom_classes": [],
            "_model_module": "@jupyter-widgets/controls",
            "_model_module_version": "1.5.0",
            "_model_name": "HBoxModel",
            "_view_count": null,
            "_view_module": "@jupyter-widgets/controls",
            "_view_module_version": "1.5.0",
            "_view_name": "HBoxView",
            "box_style": "",
            "children": [
              "IPY_MODEL_c2a21470bf144eeeb3d72510a2042e5f",
              "IPY_MODEL_3b3ee3080b894079a6dcdad2daa9b3d5"
            ],
            "layout": "IPY_MODEL_81ecfc705c224dca8a7400e1be68a58f"
          }
        },
        "a060969641b24c9e95c45b890bad5e89": {
          "model_module": "@jupyter-widgets/controls",
          "model_module_version": "1.5.0",
          "model_name": "ProgressStyleModel",
          "state": {
            "_model_module": "@jupyter-widgets/controls",
            "_model_module_version": "1.5.0",
            "_model_name": "ProgressStyleModel",
            "_view_count": null,
            "_view_module": "@jupyter-widgets/base",
            "_view_module_version": "1.2.0",
            "_view_name": "StyleView",
            "bar_color": null,
            "description_width": "initial"
          }
        },
        "c0350c665a1342b082890a654f3d7a8f": {
          "model_module": "@jupyter-widgets/base",
          "model_module_version": "1.2.0",
          "model_name": "LayoutModel",
          "state": {
            "_model_module": "@jupyter-widgets/base",
            "_model_module_version": "1.2.0",
            "_model_name": "LayoutModel",
            "_view_count": null,
            "_view_module": "@jupyter-widgets/base",
            "_view_module_version": "1.2.0",
            "_view_name": "LayoutView",
            "align_content": null,
            "align_items": null,
            "align_self": null,
            "border": null,
            "bottom": null,
            "display": null,
            "flex": null,
            "flex_flow": null,
            "grid_area": null,
            "grid_auto_columns": null,
            "grid_auto_flow": null,
            "grid_auto_rows": null,
            "grid_column": null,
            "grid_gap": null,
            "grid_row": null,
            "grid_template_areas": null,
            "grid_template_columns": null,
            "grid_template_rows": null,
            "height": null,
            "justify_content": null,
            "justify_items": null,
            "left": null,
            "margin": null,
            "max_height": null,
            "max_width": null,
            "min_height": null,
            "min_width": null,
            "object_fit": null,
            "object_position": null,
            "order": null,
            "overflow": null,
            "overflow_x": null,
            "overflow_y": null,
            "padding": null,
            "right": null,
            "top": null,
            "visibility": null,
            "width": null
          }
        },
        "c2a21470bf144eeeb3d72510a2042e5f": {
          "model_module": "@jupyter-widgets/controls",
          "model_module_version": "1.5.0",
          "model_name": "FloatProgressModel",
          "state": {
            "_dom_classes": [],
            "_model_module": "@jupyter-widgets/controls",
            "_model_module_version": "1.5.0",
            "_model_name": "FloatProgressModel",
            "_view_count": null,
            "_view_module": "@jupyter-widgets/controls",
            "_view_module_version": "1.5.0",
            "_view_name": "ProgressView",
            "bar_style": "success",
            "description": "100%",
            "description_tooltip": null,
            "layout": "IPY_MODEL_c0350c665a1342b082890a654f3d7a8f",
            "max": 553433881,
            "min": 0,
            "orientation": "horizontal",
            "style": "IPY_MODEL_a060969641b24c9e95c45b890bad5e89",
            "value": 553433881
          }
        },
        "d8f2edd175f740eb92f3de92bb137aa8": {
          "model_module": "@jupyter-widgets/base",
          "model_module_version": "1.2.0",
          "model_name": "LayoutModel",
          "state": {
            "_model_module": "@jupyter-widgets/base",
            "_model_module_version": "1.2.0",
            "_model_name": "LayoutModel",
            "_view_count": null,
            "_view_module": "@jupyter-widgets/base",
            "_view_module_version": "1.2.0",
            "_view_name": "LayoutView",
            "align_content": null,
            "align_items": null,
            "align_self": null,
            "border": null,
            "bottom": null,
            "display": null,
            "flex": null,
            "flex_flow": null,
            "grid_area": null,
            "grid_auto_columns": null,
            "grid_auto_flow": null,
            "grid_auto_rows": null,
            "grid_column": null,
            "grid_gap": null,
            "grid_row": null,
            "grid_template_areas": null,
            "grid_template_columns": null,
            "grid_template_rows": null,
            "height": null,
            "justify_content": null,
            "justify_items": null,
            "left": null,
            "margin": null,
            "max_height": null,
            "max_width": null,
            "min_height": null,
            "min_width": null,
            "object_fit": null,
            "object_position": null,
            "order": null,
            "overflow": null,
            "overflow_x": null,
            "overflow_y": null,
            "padding": null,
            "right": null,
            "top": null,
            "visibility": null,
            "width": null
          }
        }
      }
    }
  },
  "nbformat": 4,
  "nbformat_minor": 0
}
